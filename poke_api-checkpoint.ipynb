{
 "cells": [
  {
   "cell_type": "markdown",
   "id": "277f7869",
   "metadata": {},
   "source": [
    "# Exercise\n",
    "\n",
    "#### Pokemon API Wrapper\n",
    "\n",
    "Create a python wrapper for the Pokemon API. It should take in a pokemon name and display the pokemon with its height and weight"
   ]
  },
  {
   "cell_type": "code",
   "execution_count": 1,
   "id": "c613dd71",
   "metadata": {},
   "outputs": [],
   "source": [
    "# !pip install requests # (but I already have that)\n",
    "# import requests\n",
    "# __init__ the class with base url that takes in a Pokemon name\n",
    "# _get try to get the stuff for the requested pokemon\n",
    "#     (possibly take in other arguments if necessary)\n",
    "#     convert it to a json if it works\n",
    "#     return an error message if it doesn't work\n",
    "# in functions, _get the stuff you need\n",
    "# check the documentation for specific things you're after\n",
    "# navigate to them with dictionary/list look-up methods"
   ]
  },
  {
   "cell_type": "code",
   "execution_count": 3,
   "id": "d4befed6",
   "metadata": {},
   "outputs": [],
   "source": [
    "import requests"
   ]
  },
  {
   "cell_type": "code",
   "execution_count": 41,
   "id": "2a3d049e",
   "metadata": {},
   "outputs": [],
   "source": [
    "class Pokemon:\n",
    "    \n",
    "    def __init__(self, name):\n",
    "        self.name = name\n",
    "        self.base_url = f\"https://pokeapi.co/api/v2/pokemon/{name}/\"\n",
    "        \n",
    "    def _get(self):\n",
    "        req = requests.get(self.base_url)\n",
    "        if req.ok:\n",
    "            return req.json()\n",
    "        else:\n",
    "            print(\"There was an error\")\n",
    "    \n",
    "    def get_height(self):\n",
    "        data = self._get()\n",
    "        return f\"{self.name.title()}'s height is {data['height']*3.93700787:.1f} inches.\"\n",
    "    \n",
    "    def get_weight(self):\n",
    "        data = self._get()\n",
    "        print(f\"{self.name.title()}'s weight is {data['weight']*.22046226:.1f} pounds.\")\n",
    "        return data['weight']\n",
    "    \n",
    "    def battle(self, other):\n",
    "        print(\"I don't know how Pokemon ppl do battle. Go get em!\")\n",
    "        print(\"\"\"\n",
    "     \\_o_\\    /_o_/\n",
    "       |        |\n",
    "      ( )      ( )        \n",
    "        \"\"\")\n",
    "        if self.get_weight() > other.get_weight():\n",
    "            print(f\"{self.name.title()} WINS!\")\n",
    "            return self.name\n",
    "        elif other.get_weight() > self.get_weight():\n",
    "            print(f\"{other.name.title()} WINS!\")\n",
    "        return \"TIE!\"\n",
    "        \n",
    "        "
   ]
  },
  {
   "cell_type": "code",
   "execution_count": 37,
   "id": "0f2001ef",
   "metadata": {},
   "outputs": [
    {
     "name": "stdout",
     "output_type": "stream",
     "text": [
      "Pikachu's height is 15.7 inches.\n",
      "Pikachu's weight is 13.2 pounds.\n",
      "60\n"
     ]
    }
   ],
   "source": [
    "pikachu = Pokemon(\"pikachu\")\n",
    "print(pikachu.get_height())\n",
    "print(pikachu.get_weight())"
   ]
  },
  {
   "cell_type": "code",
   "execution_count": 38,
   "id": "846c3fdd",
   "metadata": {},
   "outputs": [
    {
     "name": "stdout",
     "output_type": "stream",
     "text": [
      "Rowlet's height is 11.8 inches.\n",
      "Rowlet's weight is 3.3 pounds.\n",
      "15\n"
     ]
    }
   ],
   "source": [
    "# idrk who this is, I just googled cute pokemon :D\n",
    "rowlet = Pokemon(\"rowlet\")\n",
    "print(rowlet.get_height())\n",
    "print(rowlet.get_weight()) # it's also returned"
   ]
  },
  {
   "cell_type": "code",
   "execution_count": 42,
   "id": "a90d2c51",
   "metadata": {},
   "outputs": [
    {
     "name": "stdout",
     "output_type": "stream",
     "text": [
      "I don't know how Pokemon ppl do battle. Go get em!\n",
      "\n",
      "            \\_o_\\    /_o_/\n",
      "              |        |\n",
      "             ( )      ( )        \n",
      "        \n",
      "Pikachu's weight is 13.2 pounds.\n",
      "Rowlet's weight is 3.3 pounds.\n",
      "Pikachu WINS!\n"
     ]
    },
    {
     "data": {
      "text/plain": [
       "'pikachu'"
      ]
     },
     "execution_count": 42,
     "metadata": {},
     "output_type": "execute_result"
    }
   ],
   "source": [
    "pikachu.battle(rowlet) # winner is also returned"
   ]
  }
 ],
 "metadata": {
  "kernelspec": {
   "display_name": "Python 3 (ipykernel)",
   "language": "python",
   "name": "python3"
  },
  "language_info": {
   "codemirror_mode": {
    "name": "ipython",
    "version": 3
   },
   "file_extension": ".py",
   "mimetype": "text/x-python",
   "name": "python",
   "nbconvert_exporter": "python",
   "pygments_lexer": "ipython3",
   "version": "3.9.12"
  }
 },
 "nbformat": 4,
 "nbformat_minor": 5
}
